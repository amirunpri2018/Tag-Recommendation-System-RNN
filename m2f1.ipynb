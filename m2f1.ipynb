{
 "cells": [
  {
   "cell_type": "code",
   "execution_count": 2,
   "metadata": {},
   "outputs": [
    {
     "name": "stderr",
     "output_type": "stream",
     "text": [
      "WARNING: Logging before flag parsing goes to stderr.\n",
      "W0420 21:39:39.313423  8328 __init__.py:56] Some hub symbols are not available because TensorFlow version is less than 1.14\n",
      "Using TensorFlow backend.\n"
     ]
    }
   ],
   "source": [
    "import warnings\n",
    "warnings.filterwarnings('ignore')\n",
    "import pickle\n",
    "import re\n",
    "import gc\n",
    "import numpy as np\n",
    "import pandas as pd\n",
    "from bs4 import BeautifulSoup\n",
    "from nltk import word_tokenize\n",
    "from nltk.corpus import stopwords\n",
    "from gensim.models import Word2Vec\n",
    "import tensorflow as tf\n",
    "import tensorflow_hub as hub\n",
    "from keras import layers\n",
    "from keras.models import Model\n",
    "from keras import backend as K\n",
    "from itertools import chain"
   ]
  },
  {
   "cell_type": "code",
   "execution_count": 34,
   "metadata": {},
   "outputs": [],
   "source": [
    "#Reading train and test data\n",
    "df = pd.read_csv(\"MyData.csv\")\n",
    "\n",
    "def read_label(raw_data):\n",
    "    #logging.info(\"reading raw data...this may take a while\")\n",
    "    l = len(raw_data)\n",
    "    label_list = [] #np.empty((raw_data.shape[0],len(tagCol)))\n",
    "    ll =[]\n",
    "    tagCol = [col for col in raw_data.columns if 'Tag_' in col]\n",
    "    for j in range(0,raw_data.shape[0]):\n",
    "        for i in range(0,len(tagCol)):\n",
    "            if(raw_data.loc[raw_data.index[j],tagCol[i]]==1):\n",
    "                ll.append(tagCol[i])\n",
    "                #print(ll)\n",
    "        label_list.append(ll)\n",
    "        ll = []\n",
    "        #print(label_list)\n",
    "    return label_list\n",
    "\n",
    "label_list = read_label(df)\n",
    "#label_list\n",
    "\n",
    "df['tagslist'] = label_list\n",
    "\n",
    "train = df.loc[0:50,]\n",
    "test = df.loc[51:len(df),]\n",
    "\n",
    "#train_data=pd.read_csv(\"train.csv\")\n",
    "#test_data=pd.read_csv(\"test.csv\")"
   ]
  },
  {
   "cell_type": "code",
   "execution_count": 39,
   "metadata": {},
   "outputs": [],
   "source": [
    "tags=list(train['tagslist'])\n",
    "tags.append(test['tagslist'])\n",
    "#Saving pre-processed tags into \"tags.pkl\"\n",
    "with open('tags.pkl', 'wb') as f:\n",
    "    pickle.dump(tags, f)\n",
    "\n",
    "paras=list(train['text'])\n",
    "paras.append(test['text'])\n",
    "\n",
    "paras=paras_text_processing(paras)\n",
    "\n",
    "#Splitting paras on next line\n",
    "for i in range(0,len(paras)):\n",
    "    paras[i]=paras[i].split()\n",
    "\n",
    "#Separating test data from paras\n",
    "test_paras=paras[len(tags):]\n",
    "\n",
    "#Saving pre-processed test data into file \"test_paras.txt\"\n",
    "with open(\"test_paras.txt\", \"w\") as f:\n",
    "    for para in test_paras:\n",
    "        f.write(str(para) +\"\\n\")\n",
    "\n",
    "#Separating train data from paras\n",
    "paras=paras[0:len(tags)]\n",
    "\n",
    "#Saving pre-processed train data into file \"train_paras.txt\"\n",
    "with open(\"train_paras.txt\", \"w\") as f:\n",
    "    for para in paras:\n",
    "        f.write(str(para) +\"\\n\")\n"
   ]
  },
  {
   "cell_type": "code",
   "execution_count": 36,
   "metadata": {},
   "outputs": [],
   "source": [
    "def paras_text_processing(paras):\n",
    "    ''' Preprocessing on data - remove stop words, punctuations, single characters and numbers '''\n",
    "    \n",
    "    #NLTK stop words\n",
    "    stop = set(stopwords.words('english'))\n",
    "    \n",
    "    #Removing stop words\n",
    "    for i in range(0,len(paras)):\n",
    "        paras[i]=[word for word in paras[i] if word not in stop]\n",
    "        paras[i]=\" \".join(word for word in paras[i])\n",
    "        \n",
    "    #Regex to remove punctuation, single characters and numbers\n",
    "    for i in range(0,len(paras)):\n",
    "        paras[i] = re.sub(r'\\b\\w{1,1}\\b', '', re.sub('[^A-Za-z0-9]+', ' ', paras[i]))\n",
    "        \n",
    "    return paras       "
   ]
  }
 ],
 "metadata": {
  "kernelspec": {
   "display_name": "Python 3",
   "language": "python",
   "name": "python3"
  },
  "language_info": {
   "codemirror_mode": {
    "name": "ipython",
    "version": 3
   },
   "file_extension": ".py",
   "mimetype": "text/x-python",
   "name": "python",
   "nbconvert_exporter": "python",
   "pygments_lexer": "ipython3",
   "version": "3.7.1"
  }
 },
 "nbformat": 4,
 "nbformat_minor": 2
}
